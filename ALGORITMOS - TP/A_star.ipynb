{
  "nbformat": 4,
  "nbformat_minor": 0,
  "metadata": {
    "colab": {
      "name": "A_star.ipynb",
      "provenance": []
    },
    "kernelspec": {
      "name": "python3",
      "display_name": "Python 3"
    }
  },
  "cells": [
    {
      "cell_type": "markdown",
      "metadata": {
        "id": "HBeeu8bGctev"
      },
      "source": [
        "# A*\n",
        "## Introducción\n",
        "El Algoritmo A * tiene su origen en el año 1968 y fue desarrollado principalmente para aportar elementos a la determinación de rutas de costo mínimo. Este algoritmo es una mejora desarrollada a los postulados del algoritmo Dijsktra que se encarga de encontrar rutas más cortas dentro de un grafo. En esta modificación se toma como punto central la observación búsquedas informadas dentro del grafo que nos permitan tomar decisiones óptimas sobre los caminos que deben tomarse para recorrer de forma eficiente el grafo.\n",
        "\n",
        "## Bibliotecas\n",
        "Para este algoritmo, solo se utilizó la biblioteca \"time\" que sirve para analizar los tiempos de ejecución del programa.\n",
        "\n"
      ]
    },
    {
      "cell_type": "code",
      "metadata": {
        "id": "ozNRgjOk9g7m"
      },
      "source": [
        "import time"
      ],
      "execution_count": null,
      "outputs": []
    },
    {
      "cell_type": "markdown",
      "metadata": {
        "id": "BQLzakn_Qm8f"
      },
      "source": [
        "## Clase Nodo\n",
        "La clase nodo se implementa para poder acceder a cada nodo que se encuentre en la matriz, además, se definieron de estos nodos la clave heurística (la cual representa el \"costo real\" desde un nodo al nodo de inicio), el costo de cada arista y el valor (f) que sume la heurística y los costos."
      ]
    },
    {
      "cell_type": "code",
      "metadata": {
        "id": "QSFrCrWaRCma"
      },
      "source": [
        "class Node():\n",
        "\n",
        "    def __init__(self, parent=None, position=None):\n",
        "        self.parent = parent\n",
        "        self.position = position\n",
        "        self.g = 0\n",
        "        self.h = 0\n",
        "        self.f = 0\n",
        "\n",
        "    def __eq__(self, other):\n",
        "        return self.position == other.position\n"
      ],
      "execution_count": null,
      "outputs": []
    },
    {
      "cell_type": "markdown",
      "metadata": {
        "id": "woHLgRFKRHkl"
      },
      "source": [
        "## Algoritmo\n",
        "El algoritmo A* se implementa con los parámetros iniciales de una matriz la cual recorrerá, un nodo de inicio, y un nodo de fin. Dentro de este, se inicializan dos listas _open_list_ y _closed_list_ las cuales van a almacenar la unión de todos los nodos; y por ende, también los caminos."
      ]
    },
    {
      "cell_type": "code",
      "metadata": {
        "id": "jhvlDkzm7161"
      },
      "source": [
        "def a_star(matriz, start, end):\n",
        "    \"\"\"Retorna lista de tuplas como camino\"\"\"\n",
        "    # Inicio y fin\n",
        "    start_node = Node(None, start)\n",
        "    start_node.g = start_node.h = start_node.f = 0\n",
        "    end_node = Node(None, end)\n",
        "    end_node.g = end_node.h = end_node.f = 0\n",
        "\n",
        "    # Inicializar listas\n",
        "    open_list = []\n",
        "    closed_list = []\n",
        "\n",
        "    open_list.append(start_node)\n",
        "\n",
        "    while len(open_list) > 0:\n",
        "\n",
        "        # Obtener el nodo actual\n",
        "        current_node = open_list[0]\n",
        "        current_index = 0\n",
        "        for index, item in enumerate(open_list):\n",
        "            if item.f < current_node.f:\n",
        "                current_node = item\n",
        "                current_index = index\n",
        "\n",
        "        # Sacar el actual de la lista y agregar a la lista cerrada\n",
        "        open_list.pop(current_index)\n",
        "        closed_list.append(current_node)\n",
        "\n",
        "        # Encontrar el camino\n",
        "        if current_node == end_node:\n",
        "            tiempo_ini = time.time()\n",
        "            path = []\n",
        "            current = current_node\n",
        "            while current is not None:\n",
        "                path.append(current.position)\n",
        "                current = current.parent\n",
        "            tiempo_fin = time.time()\n",
        "            t_total = (tiempo_fin - tiempo_ini)*1000\n",
        "            return path[::-1], t_total  # Return reversed path\n",
        "\n",
        "        # Generar hijos\n",
        "        children = []\n",
        "            # Obtener la posición del nodo\n",
        "        for new_position in [(0, -1), (0, 1), (-1, 0), (1, 0)]: # Movimientos direccionales ←, →, ↑, ↓\n",
        "            node_position = (current_node.position[0] + new_position[0], current_node.position[1] + new_position[1])\n",
        "\n",
        "            # Parámetros de rango\n",
        "            if node_position[0] > (len(matriz) - 1) or node_position[0] < 0 or node_position[1] > (len(matriz[len(matriz)-1]) -1) or node_position[1] < 0:\n",
        "                continue\n",
        "\n",
        "            # Parámetros para poder recorrer nodos\n",
        "            if matriz[node_position[0]][node_position[1]] != 0:\n",
        "                continue\n",
        "\n",
        "            new_node = Node(current_node, node_position)\n",
        "            children.append(new_node)\n",
        "\n",
        "        for child in children:\n",
        "            for closed_child in closed_list:\n",
        "                if child == closed_child:\n",
        "                    continue\n",
        "\n",
        "            # Creación de valores con heurística\n",
        "            child.g = current_node.g + 1\n",
        "            child.h = ((child.position[0] - end_node.position[0]) ** 2) + ((child.position[1] - end_node.position[1]) ** 2)\n",
        "            child.f = child.g + child.h\n",
        "\n",
        "            for open_node in open_list:\n",
        "                if child == open_node and child.g > open_node.g:\n",
        "                    continue\n",
        "\n",
        "            open_list.append(child)\n"
      ],
      "execution_count": null,
      "outputs": []
    },
    {
      "cell_type": "markdown",
      "metadata": {
        "id": "W0Lb51dGelCL"
      },
      "source": [
        "# Caso 1, laberinto 9x9\n",
        "Para este caso, se implementa una matriz 9x9 la cual tendrá obstáculos (representados por el valor de 1) y caminos libres (representados por el valor de 0). El objetivo de esta función es que se devuelva el camino utilizado por cada ficha y el tiempo que se demora en hallar la solución. Además, se definieron los puntos de inicio y fin para el jugador 1 los cuales son los pares (0, 0) y (8, 8) respectivamente así como los puntos de inicio y fin para el jugador 2 los cuales son el pares (8, 8) y (0, 0) respectivamente."
      ]
    },
    {
      "cell_type": "code",
      "metadata": {
        "id": "YxQIBs1vVtYP"
      },
      "source": [
        "def laberinto_1():\n",
        "    matriz1 = [\n",
        "            [0,0,0,1,0,1,1,0,0],\n",
        "            [1,1,0,1,0,0,0,0,1],\n",
        "            [0,0,0,1,0,0,1,0,0],\n",
        "            [0,1,0,1,0,0,1,0,0],\n",
        "            [0,1,0,1,0,0,1,0,0],\n",
        "            [0,0,0,0,0,0,0,0,0],\n",
        "            [0,0,0,0,1,1,0,1,0],\n",
        "            [0,1,1,0,0,0,0,1,0],\n",
        "            [0,0,0,1,0,0,0,1,0]\n",
        "          ]\n",
        "\n",
        "    start1 = (0, 0)\n",
        "    end1 = (8, 8)\n",
        "\n",
        "    start2 = (8, 8)\n",
        "    end2 = (0, 0)\n",
        "\n",
        "    print(\"Camino y tiempo de ejecución de la primera ficha:\\n\")\n",
        "    path1 = a_star(matriz1, start1, end1)\n",
        "    print(path1)\n",
        "\n",
        "    print(\"\\n\\nCamino y tiempo de ejecución de la segunda ficha:\\n\")\n",
        "    path2 = a_star(matriz1, start2, end2)\n",
        "    print(path2)\n",
        "\n"
      ],
      "execution_count": null,
      "outputs": []
    },
    {
      "cell_type": "markdown",
      "metadata": {
        "id": "EI-lwpoeT-gS"
      },
      "source": [
        "# Resultados del caso 1\n",
        "Como resultados, obtenemos que el jugador 1 llegó a la meta con un tiempo aproximado de 0.00286 segundos y se imprimió su recorrido. También, se obtuvo el camino impreso del segundo jugador, el cual en retrospectiva es el inverso del empleado por el jugador 1; sin embargo, obtuvo un tiempo aproximado de 0.00572 segundos en llegar a la meta. El ganador, fue el jugador 1."
      ]
    },
    {
      "cell_type": "code",
      "metadata": {
        "id": "RJ4bJ-wxfrIj",
        "outputId": "61550e77-731c-4ee4-c753-ad84b4863d0c",
        "colab": {
          "base_uri": "https://localhost:8080/",
          "height": 153
        }
      },
      "source": [
        "laberinto_1()"
      ],
      "execution_count": null,
      "outputs": [
        {
          "output_type": "stream",
          "text": [
            "Camino y tiempo de ejecución de la primera ficha:\n",
            "\n",
            "([(0, 0), (0, 1), (0, 2), (1, 2), (2, 2), (3, 2), (4, 2), (5, 2), (5, 3), (5, 4), (5, 5), (5, 6), (5, 7), (5, 8), (6, 8), (7, 8), (8, 8)], 0.00286102294921875)\n",
            "\n",
            "\n",
            "Camino y tiempo de ejecución de la segunda ficha:\n",
            "\n",
            "([(8, 8), (7, 8), (6, 8), (5, 8), (5, 7), (5, 6), (5, 5), (5, 4), (5, 3), (5, 2), (4, 2), (3, 2), (2, 2), (1, 2), (0, 2), (0, 1), (0, 0)], 0.0057220458984375)\n"
          ],
          "name": "stdout"
        }
      ]
    },
    {
      "cell_type": "markdown",
      "metadata": {
        "id": "wPzrmn8bfMlG"
      },
      "source": [
        "# Caso 2, laberinto 15x15\n",
        "Para este caso, se implementa una matriz 15x15 la cual tendrá obstáculos (representados por el valor de 1) y caminos libres (representados por el valor de 0). El objetivo de esta función es que se devuelva el camino utilizado por cada ficha y el tiempo que se demora en hallar la solución. Además, se definieron los puntos de inicio y fin para el jugador 1 los cuales son los pares (0, 0) y (8, 8) respectivamente así como los puntos de inicio y fin para el jugador 2 los cuales son el pares (8, 8) y (0, 0) respectivamente."
      ]
    },
    {
      "cell_type": "code",
      "metadata": {
        "id": "zENlCrN6etel"
      },
      "source": [
        "def laberinto_2():\n",
        "  matriz2 = [\n",
        "            [0,0,1,0,0,0,0,1,0,0,0,0,0,0,0],\n",
        "            [1,0,0,1,0,0,0,1,0,0,0,0,0,0,0],\n",
        "            [0,1,0,0,1,0,0,1,0,0,0,0,0,0,0],\n",
        "            [0,0,1,0,0,0,0,1,0,0,0,0,0,0,0],\n",
        "            [0,0,1,0,0,0,0,0,0,0,0,0,0,0,0],\n",
        "            [0,0,1,0,1,1,1,1,0,1,0,0,0,0,0],\n",
        "            [0,0,1,0,0,0,0,0,0,0,1,0,0,0,0],\n",
        "            [0,0,1,0,0,0,0,0,0,0,0,1,0,0,0],\n",
        "            [1,1,0,0,0,0,0,0,0,0,0,0,1,0,0],\n",
        "            [0,0,0,1,1,1,1,0,0,0,0,0,0,0,0],\n",
        "            [0,0,0,0,0,0,0,0,0,0,0,0,0,0,0],\n",
        "            [0,0,0,0,0,0,0,0,0,1,0,0,1,0,0],\n",
        "            [0,0,0,0,0,0,0,1,0,1,0,0,0,1,0],\n",
        "            [0,0,0,0,1,0,1,0,0,1,0,0,0,0,1],\n",
        "            [0,0,0,0,1,0,1,0,0,1,1,1,1,0,0]\n",
        "           ]\n",
        "\n",
        "  start1 = (0, 0)\n",
        "  end1 = (14, 14)\n",
        "\n",
        "  start2 = (14, 14)\n",
        "  end2 = (0, 0)\n",
        "  \n",
        "  print(\"Camino y tiempo de ejecución de la primera ficha:\\n\")\n",
        "  path1 = a_star(matriz2, start1, end1)\n",
        "  print(path1)\n",
        "\n",
        "  print(\"\\n\\nCamino y tiempo de ejecución de la segunda ficha:\\n\")\n",
        "  path2 = a_star(matriz2, start2, end2)\n",
        "  print(path2)"
      ],
      "execution_count": null,
      "outputs": []
    },
    {
      "cell_type": "markdown",
      "metadata": {
        "id": "fl0Js2evUatv"
      },
      "source": [
        "# Resultados del caso 2\n",
        "Como resultados, obtenemos que el jugador 1 llegó a la meta con un tiempo aproximado de 0.00787 segundos y se imprimió su recorrido. También, se obtuvo el camino impreso del segundo jugador, el cual en retrospectiva es el inverso del empleado por el jugador 1; sin embargo, obtuvo un tiempo aproximado de 0.01454 segundos en llegar a la meta. El ganador, fue el jugador 1."
      ]
    },
    {
      "cell_type": "code",
      "metadata": {
        "id": "xFZ5zEwGfzMp",
        "outputId": "b62fb27f-c587-4eb6-e951-2e925b1641bd",
        "colab": {
          "base_uri": "https://localhost:8080/",
          "height": 173
        }
      },
      "source": [
        "laberinto_2()"
      ],
      "execution_count": null,
      "outputs": [
        {
          "output_type": "stream",
          "text": [
            "Camino y tiempo de ejecución de la primera ficha:\n",
            "\n",
            "([(0, 0), (0, 1), (1, 1), (1, 2), (2, 2), (2, 3), (3, 3), (3, 4), (4, 4), (4, 5), (4, 6), (4, 7), (4, 8), (5, 8), (6, 8), (7, 8), (8, 8), (8, 9), (9, 9), (9, 10), (10, 10), (10, 11), (11, 11), (12, 11), (12, 12), (13, 12), (13, 13), (14, 13), (14, 14)], 0.007867813110351562)\n",
            "\n",
            "\n",
            "Camino y tiempo de ejecución de la segunda ficha:\n",
            "\n",
            "([(14, 14), (14, 13), (13, 13), (13, 12), (12, 12), (12, 11), (11, 11), (11, 10), (10, 10), (10, 9), (9, 9), (9, 8), (8, 8), (8, 7), (7, 7), (7, 6), (6, 6), (6, 5), (6, 4), (6, 3), (5, 3), (4, 3), (3, 3), (2, 3), (2, 2), (1, 2), (1, 1), (0, 1), (0, 0)], 0.014543533325195312)\n"
          ],
          "name": "stdout"
        }
      ]
    }
  ]
}