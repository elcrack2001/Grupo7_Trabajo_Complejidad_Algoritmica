{
  "nbformat": 4,
  "nbformat_minor": 0,
  "metadata": {
    "colab": {
      "name": "BFS",
      "provenance": []
    },
    "kernelspec": {
      "name": "python3",
      "display_name": "Python 3"
    }
  },
  "cells": [
    {
      "cell_type": "code",
      "metadata": {
        "id": "-BKOG7dOx_BO"
      },
      "source": [
        "import numpy as np\n",
        "import matplotlib.pyplot as plt\n",
        "import seaborn as sns\n",
        "import networkx as nx\n",
        "import queue\n",
        "import random\n",
        "import time"
      ],
      "execution_count": 172,
      "outputs": []
    },
    {
      "cell_type": "code",
      "metadata": {
        "id": "Q2-PXfWayNaN"
      },
      "source": [
        "def Generar_Tablero():\n",
        "    matriz1 = [\n",
        "            [2,0,0,1,0,1,1,0,0],\n",
        "            [1,1,0,1,0,0,0,0,1],\n",
        "            [0,0,0,1,0,0,1,0,0],\n",
        "            [0,1,0,1,0,0,1,0,0],\n",
        "            [0,1,0,1,0,0,1,0,0],\n",
        "            [0,0,0,0,0,0,0,0,0],\n",
        "            [0,0,0,0,1,1,0,1,0],\n",
        "            [0,1,1,0,0,0,0,1,0],\n",
        "            [0,0,0,1,0,0,0,1,3]\n",
        "          ]\n",
        "    return matriz1"
      ],
      "execution_count": 173,
      "outputs": []
    },
    {
      "cell_type": "code",
      "metadata": {
        "id": "08LCAn4y2Nhx"
      },
      "source": [
        "def Generar_Tablero_2():\n",
        "    matriz1 = [\n",
        "            [2,0,1],\n",
        "            [0,1,1],\n",
        "            [0,0,3]\n",
        "          ]\n",
        "    return matriz1"
      ],
      "execution_count": 174,
      "outputs": []
    },
    {
      "cell_type": "code",
      "metadata": {
        "id": "QFyLjx5LyXHP"
      },
      "source": [
        "def dibujarTablero(matriz, id=True):\n",
        "  plt.figure(figsize=(np.size(matriz,0),np.size(matriz,1)))\n",
        "  sns.heatmap(matriz, linewidths=.1, linecolor='white', annot=False, cmap='magma', yticklabels=False, xticklabels=False, cbar=False, square=True);\n",
        "  sns.heatmap(matriz, linewidths=.1, linecolor='white', annot=id, cmap='magma', yticklabels=False, xticklabels=False, cbar=False, square=True,\n",
        "  mask=np.array(matriz)<0);\n",
        "  plt.show()"
      ],
      "execution_count": 175,
      "outputs": []
    },
    {
      "cell_type": "code",
      "metadata": {
        "id": "tFmGeuZSyNYJ"
      },
      "source": [
        "def Pinta_Camino(matriz, path = \"\"):\n",
        "    for x, pos in enumerate(matriz[0]):\n",
        "        if pos == 2:\n",
        "            start = x\n",
        "\n",
        "    i = start\n",
        "    j = 0\n",
        "    pos = set()\n",
        "    for move in path:\n",
        "        if move == \"L\":\n",
        "            i -= 1\n",
        "\n",
        "        elif move == \"R\":\n",
        "            i += 1\n",
        "\n",
        "        elif move == \"U\":\n",
        "            j -= 1\n",
        "\n",
        "        elif move == \"D\":\n",
        "            j += 1\n",
        "        pos.add((j, i))\n",
        "    \n",
        "    for j, row in enumerate(matriz):\n",
        "        for i, col in enumerate(row):\n",
        "            if (j, i) in pos:\n",
        "              matriz[j][i] = 2\n",
        "        print()"
      ],
      "execution_count": 176,
      "outputs": []
    },
    {
      "cell_type": "code",
      "metadata": {
        "id": "-7weKD1VzJxu"
      },
      "source": [
        "def valid(matriz, moves):\n",
        "    for x, pos in enumerate(matriz[0]):\n",
        "        if pos == 2:\n",
        "            start = x\n",
        "\n",
        "    i = start\n",
        "    j = 0\n",
        "    for move in moves:\n",
        "        if move == \"L\":\n",
        "            i -= 1\n",
        "\n",
        "        elif move == \"R\":\n",
        "            i += 1\n",
        "\n",
        "        elif move == \"U\":\n",
        "            j -= 1\n",
        "\n",
        "        elif move == \"D\":\n",
        "            j += 1\n",
        "\n",
        "        if not(0 <= i < len(matriz[0]) and 0 <= j < len(matriz)):\n",
        "            return False\n",
        "        elif (matriz[j][i] == 1):\n",
        "            return False\n",
        "    return True"
      ],
      "execution_count": 177,
      "outputs": []
    },
    {
      "cell_type": "code",
      "metadata": {
        "id": "I78Nfe1bzXmx"
      },
      "source": [
        "def findEnd(matriz, moves):\n",
        "    for x, pos in enumerate(matriz[0]):\n",
        "        if pos == 2:\n",
        "          start = x\n",
        "    i = start\n",
        "    j = 0\n",
        "    for move in moves:\n",
        "        if move == \"L\":\n",
        "            i -= 1\n",
        "\n",
        "        elif move == \"R\":\n",
        "            i += 1\n",
        "\n",
        "        elif move == \"U\":\n",
        "            j -= 1\n",
        "\n",
        "        elif move == \"D\":\n",
        "            j += 1\n",
        "\n",
        "    if matriz[j][i] == 3:\n",
        "        print(\"Found: \" + moves)\n",
        "        Pinta_Camino(matriz, moves)\n",
        "        return True\n",
        "\n",
        "    return False"
      ],
      "execution_count": 178,
      "outputs": []
    },
    {
      "cell_type": "code",
      "metadata": {
        "id": "uiCkVWc7JAGM"
      },
      "source": [
        "def Pinta_Camino_jugador_segundo(matriz, path = \"\"):\n",
        "    for x, pos in enumerate(matriz[8]):\n",
        "        if pos == 3:\n",
        "            start = x\n",
        "\n",
        "    i = start\n",
        "    j = 8\n",
        "    pos = set()\n",
        "    for move in path:\n",
        "        if move == \"L\":\n",
        "            i -= 1\n",
        "\n",
        "        elif move == \"R\":\n",
        "            i += 1\n",
        "\n",
        "        elif move == \"U\":\n",
        "            j -= 1\n",
        "\n",
        "        elif move == \"D\":\n",
        "            j += 1\n",
        "        pos.add((j, i))\n",
        "    \n",
        "    for j, row in enumerate(matriz):\n",
        "        for i, col in enumerate(row):\n",
        "            if (j, i) in pos:\n",
        "              matriz[j][i] = 3\n",
        "        print()"
      ],
      "execution_count": 179,
      "outputs": []
    },
    {
      "cell_type": "code",
      "metadata": {
        "id": "kcnX_3dqJQji"
      },
      "source": [
        "def valid_jugador_segundo(matriz, moves):\n",
        "    for x, pos in enumerate(matriz[8]):\n",
        "        if pos == 3:\n",
        "            start = x\n",
        "\n",
        "    i = start\n",
        "    j = 8\n",
        "    for move in moves:\n",
        "        if move == \"L\":\n",
        "            i -= 1\n",
        "\n",
        "        elif move == \"R\":\n",
        "            i += 1\n",
        "\n",
        "        elif move == \"U\":\n",
        "            j -= 1\n",
        "\n",
        "        elif move == \"D\":\n",
        "            j += 1\n",
        "\n",
        "        if not(0 <= i < len(matriz[0]) and 0 <= j < len(matriz)):\n",
        "            return False\n",
        "        elif (matriz[j][i] == 1):\n",
        "            return False   \n",
        "\n",
        "    return True"
      ],
      "execution_count": 180,
      "outputs": []
    },
    {
      "cell_type": "code",
      "metadata": {
        "id": "oMvG9LxAJcT-"
      },
      "source": [
        "def findEnd_segundo_jugador(matriz, moves):\n",
        "  for x, pos in enumerate(matriz[8]):\n",
        "    if pos == 3:\n",
        "      start = x\n",
        "\n",
        "  i = start\n",
        "  j = 8\n",
        "\n",
        "  for move in moves:\n",
        "    if move == \"L\":\n",
        "      i -= 1\n",
        "\n",
        "    elif move == \"R\":\n",
        "      i += 1\n",
        "\n",
        "    elif move == \"U\":\n",
        "      j -= 1\n",
        "\n",
        "    elif move == \"D\":\n",
        "      j += 1\n",
        "\n",
        "  if matriz[j][i] == 2:\n",
        "    print(\"Found: \" + moves)\n",
        "    Pinta_Camino_jugador_segundo(matriz, moves)\n",
        "    return True\n",
        "  return False"
      ],
      "execution_count": 181,
      "outputs": []
    },
    {
      "cell_type": "code",
      "metadata": {
        "id": "19ei-SYS4wnc"
      },
      "source": [
        "def mesure_time(main):\n",
        "  start=time.time()\n",
        "  main()\n",
        "  end=time.time()\n",
        "  return end-start"
      ],
      "execution_count": 182,
      "outputs": []
    },
    {
      "cell_type": "code",
      "metadata": {
        "id": "VrTlTLoI3O0t"
      },
      "source": [
        "def main_1():\n",
        "  matriz = Generar_Tablero()\n",
        "  #-----------Primer Peon\n",
        "  nums = queue.Queue()\n",
        "  nums.put(\"\")\n",
        "  add = \"\"\n",
        "\n",
        "  while not findEnd(matriz, add): \n",
        "      add = nums.get()\n",
        "      for j in [\"L\", \"R\", \"U\", \"D\"]:\n",
        "          put = add + j\n",
        "          if valid(matriz, put):\n",
        "              nums.put(put)\n",
        "\n",
        "\n",
        "  dibujarTablero(matriz)"
      ],
      "execution_count": 183,
      "outputs": []
    },
    {
      "cell_type": "code",
      "metadata": {
        "id": "8e3qsa862uym"
      },
      "source": [
        "def main_2():\n",
        "  matriz2 = Generar_Tablero_2()\n",
        "  nums = queue.Queue()\n",
        "  nums.put(\"\")\n",
        "  add = \"\"\n",
        "\n",
        "  while not findEnd(matriz2, add): \n",
        "      add = nums.get()\n",
        "      for j in [\"L\", \"R\", \"U\", \"D\"]:\n",
        "          put = add + j\n",
        "          if valid(matriz2, put):\n",
        "              nums.put(put)\n",
        "\n",
        "  dibujarTablero(matriz2)"
      ],
      "execution_count": 184,
      "outputs": []
    },
    {
      "cell_type": "code",
      "metadata": {
        "id": "CcqSwEJ45SBK",
        "outputId": "3a028780-3e31-4fae-a37a-35884914d9b7",
        "colab": {
          "base_uri": "https://localhost:8080/",
          "height": 969
        }
      },
      "source": [
        "print(\"El tiempo es \",mesure_time(main_2))\n",
        "print(\"El tiempo es \",mesure_time(main_1))"
      ],
      "execution_count": 185,
      "outputs": [
        {
          "output_type": "stream",
          "text": [
            "Found: DDRR\n",
            "\n",
            "\n",
            "\n"
          ],
          "name": "stdout"
        },
        {
          "output_type": "display_data",
          "data": {
            "image/png": "[encoded data removed]",
            "text/plain": [
              "<Figure size 216x216 with 1 Axes>"
            ]
          },
          "metadata": {
            "tags": []
          }
        },
        {
          "output_type": "stream",
          "text": [
            "El tiempo es  0.07239842414855957\n",
            "Found: RRDDDDDRRRRRRDDD\n",
            "\n",
            "\n",
            "\n",
            "\n",
            "\n",
            "\n",
            "\n",
            "\n",
            "\n"
          ],
          "name": "stdout"
        },
        {
          "output_type": "display_data",
          "data": {
            "image/png": "[encoded data removed]",
            "text/plain": [
              "<Figure size 648x648 with 1 Axes>"
            ]
          },
          "metadata": {
            "tags": []
          }
        },
        {
          "output_type": "stream",
          "text": [
            "El tiempo es  5.24133825302124\n"
          ],
          "name": "stdout"
        }
      ]
    }
  ]
}