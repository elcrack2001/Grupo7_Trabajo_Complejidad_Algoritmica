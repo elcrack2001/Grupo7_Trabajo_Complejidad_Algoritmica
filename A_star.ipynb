{
  "nbformat": 4,
  "nbformat_minor": 0,
  "metadata": {
    "colab": {
      "name": "A_star.ipynb",
      "provenance": []
    },
    "kernelspec": {
      "name": "python3",
      "display_name": "Python 3"
    }
  },
  "cells": [
    {
      "cell_type": "markdown",
      "metadata": {
        "id": "HBeeu8bGctev"
      },
      "source": [
        "# Algoritmo A*\n",
        "\n"
      ]
    },
    {
      "cell_type": "code",
      "metadata": {
        "id": "ozNRgjOk9g7m"
      },
      "source": [
        "import time"
      ],
      "execution_count": 79,
      "outputs": []
    },
    {
      "cell_type": "code",
      "metadata": {
        "id": "jhvlDkzm7161"
      },
      "source": [
        "class Node():\n",
        "\n",
        "    def __init__(self, parent=None, position=None):\n",
        "        self.parent = parent\n",
        "        self.position = position\n",
        "        self.g = 0\n",
        "        self.h = 0\n",
        "        self.f = 0\n",
        "\n",
        "    def __eq__(self, other):\n",
        "        return self.position == other.position\n",
        "\n",
        "\n",
        "def a_star(matriz, start, end):\n",
        "    \"\"\"Retorna lista de tuplas como camino\"\"\"\n",
        "    # Inicio y fin\n",
        "    start_node = Node(None, start)\n",
        "    start_node.g = start_node.h = start_node.f = 0\n",
        "    end_node = Node(None, end)\n",
        "    end_node.g = end_node.h = end_node.f = 0\n",
        "\n",
        "    # Inicializar listas\n",
        "    open_list = []\n",
        "    closed_list = []\n",
        "\n",
        "    open_list.append(start_node)\n",
        "\n",
        "    while len(open_list) > 0:\n",
        "\n",
        "        # Obtener el nodo actual\n",
        "        current_node = open_list[0]\n",
        "        current_index = 0\n",
        "        for index, item in enumerate(open_list):\n",
        "            if item.f < current_node.f:\n",
        "                current_node = item\n",
        "                current_index = index\n",
        "\n",
        "        # Sacar el actual de la lista y agregar a la lista cerrada\n",
        "        open_list.pop(current_index)\n",
        "        closed_list.append(current_node)\n",
        "\n",
        "        # Encontrar el camino\n",
        "        if current_node == end_node:\n",
        "            tiempo_ini = time.time()\n",
        "            path = []\n",
        "            current = current_node\n",
        "            while current is not None:\n",
        "                path.append(current.position)\n",
        "                current = current.parent\n",
        "            tiempo_fin = time.time()\n",
        "            t_total = (tiempo_fin - tiempo_ini)*1000\n",
        "            return path[::-1], t_total  # Return reversed path\n",
        "\n",
        "        # Generar hijos\n",
        "        children = []\n",
        "            # Obtener la posición del nodo\n",
        "        for new_position in [(0, -1), (0, 1), (-1, 0), (1, 0)]: # Movimientos direccionales ←, →, ↑, ↓\n",
        "            node_position = (current_node.position[0] + new_position[0], current_node.position[1] + new_position[1])\n",
        "\n",
        "            # Parámetros de rango\n",
        "            if node_position[0] > (len(matriz) - 1) or node_position[0] < 0 or node_position[1] > (len(matriz[len(matriz)-1]) -1) or node_position[1] < 0:\n",
        "                continue\n",
        "\n",
        "            # Parámetros para poder recorrer nodos\n",
        "            if matriz[node_position[0]][node_position[1]] != 0:\n",
        "                continue\n",
        "\n",
        "            new_node = Node(current_node, node_position)\n",
        "            children.append(new_node)\n",
        "\n",
        "        for child in children:\n",
        "            for closed_child in closed_list:\n",
        "                if child == closed_child:\n",
        "                    continue\n",
        "\n",
        "            # Creación de valores con heurística\n",
        "            child.g = current_node.g + 1\n",
        "            child.h = ((child.position[0] - end_node.position[0]) ** 2) + ((child.position[1] - end_node.position[1]) ** 2)\n",
        "            child.f = child.g + child.h\n",
        "\n",
        "            for open_node in open_list:\n",
        "                if child == open_node and child.g > open_node.g:\n",
        "                    continue\n",
        "\n",
        "            open_list.append(child)\n"
      ],
      "execution_count": 81,
      "outputs": []
    },
    {
      "cell_type": "markdown",
      "metadata": {
        "id": "W0Lb51dGelCL"
      },
      "source": [
        "# Caso 1, laberinto 9x9\n"
      ]
    },
    {
      "cell_type": "code",
      "metadata": {
        "id": "YxQIBs1vVtYP"
      },
      "source": [
        "def laberinto_1():\n",
        "    matriz1 = [\n",
        "            [0,0,0,1,0,1,1,0,0],\n",
        "            [1,1,0,1,0,0,0,0,1],\n",
        "            [0,0,0,1,0,0,1,0,0],\n",
        "            [0,1,0,1,0,0,1,0,0],\n",
        "            [0,1,0,1,0,0,1,0,0],\n",
        "            [0,0,0,0,0,0,0,0,0],\n",
        "            [0,0,0,0,1,1,0,1,0],\n",
        "            [0,1,1,0,0,0,0,1,0],\n",
        "            [0,0,0,1,0,0,0,1,0]\n",
        "          ]\n",
        "\n",
        "    start1 = (0, 0)\n",
        "    end1 = (8, 8)\n",
        "\n",
        "    start2 = (8, 8)\n",
        "    end2 = (0, 0)\n",
        "\n",
        "    print(\"Camino y tiempo de ejecución de la primera ficha:\\n\")\n",
        "    path1 = a_star(matriz1, start1, end1)\n",
        "    print(path1)\n",
        "\n",
        "    print(\"\\n\\nCamino y tiempo de ejecución de la segunda ficha:\\n\")\n",
        "    path2 = a_star(matriz1, start2, end2)\n",
        "    print(path2)\n",
        "\n"
      ],
      "execution_count": 82,
      "outputs": []
    },
    {
      "cell_type": "code",
      "metadata": {
        "id": "RJ4bJ-wxfrIj",
        "outputId": "0cd69660-0905-432a-e56d-98ee4696c5ec",
        "colab": {
          "base_uri": "https://localhost:8080/",
          "height": 153
        }
      },
      "source": [
        "laberinto_1()"
      ],
      "execution_count": 83,
      "outputs": [
        {
          "output_type": "stream",
          "text": [
            "Camino y tiempo de ejecución de la primera ficha:\n",
            "\n",
            "([(0, 0), (0, 1), (0, 2), (1, 2), (2, 2), (3, 2), (4, 2), (5, 2), (5, 3), (5, 4), (5, 5), (5, 6), (5, 7), (5, 8), (6, 8), (7, 8), (8, 8)], 0.0050067901611328125)\n",
            "\n",
            "\n",
            "Camino y tiempo de ejecución de la segunda ficha:\n",
            "\n",
            "([(8, 8), (7, 8), (6, 8), (5, 8), (5, 7), (5, 6), (5, 5), (5, 4), (5, 3), (5, 2), (4, 2), (3, 2), (2, 2), (1, 2), (0, 2), (0, 1), (0, 0)], 0.0054836273193359375)\n"
          ],
          "name": "stdout"
        }
      ]
    },
    {
      "cell_type": "markdown",
      "metadata": {
        "id": "wPzrmn8bfMlG"
      },
      "source": [
        "# Caso 2, laberinto 15x15"
      ]
    },
    {
      "cell_type": "code",
      "metadata": {
        "id": "zENlCrN6etel"
      },
      "source": [
        "def laberinto_2():\n",
        "  matriz2 = [\n",
        "            [0,0,1,0,0,0,0,1,0,0,0,0,0,0,0],\n",
        "            [1,0,0,1,0,0,0,1,0,0,0,0,0,0,0],\n",
        "            [0,1,0,0,1,0,0,1,0,0,0,0,0,0,0],\n",
        "            [0,0,1,0,0,0,0,1,0,0,0,0,0,0,0],\n",
        "            [0,0,1,0,0,0,0,0,0,0,0,0,0,0,0],\n",
        "            [0,0,1,0,1,1,1,1,0,1,0,0,0,0,0],\n",
        "            [0,0,1,0,0,0,0,0,0,0,1,0,0,0,0],\n",
        "            [0,0,1,0,0,0,0,0,0,0,0,1,0,0,0],\n",
        "            [1,1,0,0,0,0,0,0,0,0,0,0,1,0,0],\n",
        "            [0,0,0,1,1,1,1,0,0,0,0,0,0,0,0],\n",
        "            [0,0,0,0,0,0,0,0,0,0,0,0,0,0,0],\n",
        "            [0,0,0,0,0,0,0,0,0,1,0,0,1,0,0],\n",
        "            [0,0,0,0,0,0,0,1,0,1,0,0,0,1,0],\n",
        "            [0,0,0,0,1,0,1,0,0,1,0,0,0,0,1],\n",
        "            [0,0,0,0,1,0,1,0,0,1,1,1,1,0,0]\n",
        "           ]\n",
        "\n",
        "  start1 = (0, 0)\n",
        "  end1 = (14, 14)\n",
        "\n",
        "  start2 = (14, 14)\n",
        "  end2 = (0, 0)\n",
        "  \n",
        "  print(\"Camino y tiempo de ejecución de la primera ficha:\\n\")\n",
        "  path1 = a_star(matriz2, start1, end1)\n",
        "  print(path1)\n",
        "\n",
        "  print(\"\\n\\nCamino y tiempo de ejecución de la segunda ficha:\\n\")\n",
        "  path2 = a_star(matriz2, start2, end2)\n",
        "  print(path2)"
      ],
      "execution_count": 84,
      "outputs": []
    },
    {
      "cell_type": "code",
      "metadata": {
        "id": "xFZ5zEwGfzMp",
        "outputId": "056d10e5-918f-47b5-8f7b-1bd45a050bab",
        "colab": {
          "base_uri": "https://localhost:8080/",
          "height": 173
        }
      },
      "source": [
        "laberinto_2()"
      ],
      "execution_count": 86,
      "outputs": [
        {
          "output_type": "stream",
          "text": [
            "Camino y tiempo de ejecución de la primera ficha:\n",
            "\n",
            "([(0, 0), (0, 1), (1, 1), (1, 2), (2, 2), (2, 3), (3, 3), (3, 4), (4, 4), (4, 5), (4, 6), (4, 7), (4, 8), (5, 8), (6, 8), (7, 8), (8, 8), (8, 9), (9, 9), (9, 10), (10, 10), (10, 11), (11, 11), (12, 11), (12, 12), (13, 12), (13, 13), (14, 13), (14, 14)], 0.005245208740234375)\n",
            "\n",
            "\n",
            "Camino y tiempo de ejecución de la segunda ficha:\n",
            "\n",
            "([(14, 14), (14, 13), (13, 13), (13, 12), (12, 12), (12, 11), (11, 11), (11, 10), (10, 10), (10, 9), (9, 9), (9, 8), (8, 8), (8, 7), (7, 7), (7, 6), (6, 6), (6, 5), (6, 4), (6, 3), (5, 3), (4, 3), (3, 3), (2, 3), (2, 2), (1, 2), (1, 1), (0, 1), (0, 0)], 0.004291534423828125)\n"
          ],
          "name": "stdout"
        }
      ]
    }
  ]
}