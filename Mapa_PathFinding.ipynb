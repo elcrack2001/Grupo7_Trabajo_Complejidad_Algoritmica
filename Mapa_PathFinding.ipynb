{
  "nbformat": 4,
  "nbformat_minor": 0,
  "metadata": {
    "colab": {
      "name": "juego2",
      "provenance": []
    },
    "kernelspec": {
      "name": "python3",
      "display_name": "Python 3"
    }
  },
  "cells": [
    {
      "cell_type": "code",
      "metadata": {
        "id": "-BKOG7dOx_BO",
        "colab_type": "code",
        "colab": {}
      },
      "source": [
        "import numpy as np\n",
        "import matplotlib.pyplot as plt\n",
        "import seaborn as sns\n",
        "import networkx as nx\n",
        "import queue\n",
        "import random"
      ],
      "execution_count": 281,
      "outputs": []
    },
    {
      "cell_type": "code",
      "metadata": {
        "id": "Q2-PXfWayNaN",
        "colab_type": "code",
        "colab": {}
      },
      "source": [
        "def Generar_Tablero(fila, columna):\n",
        "    if (fila%2)==0:\n",
        "      fila -= 1\n",
        "    if (columna%2)==0:\n",
        "      columna-=1\n",
        "    tablero = np.zeros((fila,columna), dtype = int) \n",
        "    ## Ganar\n",
        "    tablero[0,0::1] = 1\n",
        "    tablero[fila - 1,0::1] = 2\n",
        "    ## Jugadores\n",
        "    pos1 = random.randint(0,columna - 1)\n",
        "    pos2 = random.randint(0,columna - 1)\n",
        "    tablero[0, pos1] = 3\n",
        "    tablero[fila - 1, pos2] = 4\n",
        "    #OBSTACULOS\n",
        "    i = 1\n",
        "    j = fila - 1\n",
        "    for i in range(1, j):\n",
        "      tablero[i, random.randint(0,columna - 1)] = 5\n",
        "    return tablero"
      ],
      "execution_count": 282,
      "outputs": []
    },
    {
      "cell_type": "code",
      "metadata": {
        "id": "QFyLjx5LyXHP",
        "colab_type": "code",
        "colab": {}
      },
      "source": [
        "def dibujarTablero(matriz, id=True):\n",
        "  plt.figure(figsize=(np.size(matriz,0),np.size(matriz,1)))\n",
        "  sns.heatmap(matriz, linewidths=.1, linecolor='white', annot=False, cmap='magma', yticklabels=False, xticklabels=False, cbar=False, square=True);\n",
        "  sns.heatmap(matriz, linewidths=.1, linecolor='white', annot=id, cmap='magma', yticklabels=False, xticklabels=False, cbar=False, square=True,\n",
        "  mask=np.array(matriz)<0);\n",
        "  plt.show()"
      ],
      "execution_count": 283,
      "outputs": []
    },
    {
      "cell_type": "code",
      "metadata": {
        "id": "C2ZQ5pW9yXNE",
        "colab_type": "code",
        "colab": {
          "base_uri": "https://localhost:8080/",
          "height": 108
        },
        "outputId": "e2d801a7-8fde-4976-ce53-8511b0407207"
      },
      "source": [
        "fila = 5\n",
        "columna = 5\n",
        "Generar_Tablero(fila, columna)"
      ],
      "execution_count": 284,
      "outputs": [
        {
          "output_type": "execute_result",
          "data": {
            "text/plain": [
              "array([[1, 1, 3, 1, 1],\n",
              "       [0, 0, 5, 0, 0],\n",
              "       [0, 0, 5, 0, 0],\n",
              "       [0, 0, 0, 0, 5],\n",
              "       [2, 2, 2, 2, 4]])"
            ]
          },
          "metadata": {
            "tags": []
          },
          "execution_count": 284
        }
      ]
    },
    {
      "cell_type": "code",
      "metadata": {
        "id": "qnRsywRjyNZq",
        "colab_type": "code",
        "colab": {
          "base_uri": "https://localhost:8080/",
          "height": 303
        },
        "outputId": "25d77a67-5c0e-42b5-bded-27135f8e9d38"
      },
      "source": [
        "matriz = Generar_Tablero(fila, columna)\n",
        "auxiliar = matriz.copy()\n",
        "dibujarTablero(matriz)"
      ],
      "execution_count": 285,
      "outputs": [
        {
          "output_type": "display_data",
          "data": {
            "image/png": "[encoded data removed]",
            "text/plain": [
              "<Figure size 360x360 with 1 Axes>"
            ]
          },
          "metadata": {
            "tags": []
          }
        }
      ]
    },
    {
      "cell_type": "code",
      "metadata": {
        "id": "tFmGeuZSyNYJ",
        "colab_type": "code",
        "colab": {}
      },
      "source": [
        "def Pinta_Camino(matriz, path = \"\"):\n",
        "    for x, pos in enumerate(matriz[0]):\n",
        "        if pos == 3:\n",
        "            start = x\n",
        "\n",
        "    i = start\n",
        "    j = 0\n",
        "    pos = set()\n",
        "    for move in path:\n",
        "        if move == \"L\":\n",
        "            i -= 1\n",
        "\n",
        "        elif move == \"R\":\n",
        "            i += 1\n",
        "\n",
        "        elif move == \"U\":\n",
        "            j -= 1\n",
        "\n",
        "        elif move == \"D\":\n",
        "            j += 1\n",
        "        pos.add((j, i))\n",
        "    \n",
        "    for j, row in enumerate(matriz):\n",
        "        for i, col in enumerate(row):\n",
        "            if (j, i) in pos:\n",
        "              matriz[j, i] = 7\n",
        "        print()"
      ],
      "execution_count": 286,
      "outputs": []
    },
    {
      "cell_type": "code",
      "metadata": {
        "id": "-7weKD1VzJxu",
        "colab_type": "code",
        "colab": {}
      },
      "source": [
        "def valid(matriz, moves):\n",
        "    for x, pos in enumerate(matriz[0]):\n",
        "        if pos == 3:\n",
        "            start = x\n",
        "\n",
        "    i = start\n",
        "    j = 0\n",
        "    for move in moves:\n",
        "        if move == \"L\":\n",
        "            i -= 1\n",
        "\n",
        "        elif move == \"R\":\n",
        "            i += 1\n",
        "\n",
        "        elif move == \"U\":\n",
        "            j -= 1\n",
        "\n",
        "        elif move == \"D\":\n",
        "            j += 1\n",
        "\n",
        "        if not(0 <= i < len(matriz[0]) and 0 <= j < len(matriz)):\n",
        "            return False\n",
        "        elif (matriz[j][i] == 5):\n",
        "            return False\n",
        "\n",
        "    return True"
      ],
      "execution_count": 287,
      "outputs": []
    },
    {
      "cell_type": "code",
      "metadata": {
        "id": "I78Nfe1bzXmx",
        "colab_type": "code",
        "colab": {}
      },
      "source": [
        "def findEnd(matriz, moves):\n",
        "    for x, pos in enumerate(matriz[0]):\n",
        "        if pos == 3:\n",
        "          start = x\n",
        "    i = start\n",
        "    j = 0\n",
        "    for move in moves:\n",
        "        if move == \"L\":\n",
        "            i -= 1\n",
        "\n",
        "        elif move == \"R\":\n",
        "            i += 1\n",
        "\n",
        "        elif move == \"U\":\n",
        "            j -= 1\n",
        "\n",
        "        elif move == \"D\":\n",
        "            j += 1\n",
        "\n",
        "    if matriz[j][i] == 2:\n",
        "        print(\"Found: \" + moves)\n",
        "        Pinta_Camino(matriz, moves)\n",
        "        return True\n",
        "\n",
        "    return False"
      ],
      "execution_count": 288,
      "outputs": []
    },
    {
      "cell_type": "code",
      "metadata": {
        "id": "JnLPle4Azm-L",
        "colab_type": "code",
        "colab": {
          "base_uri": "https://localhost:8080/",
          "height": 126
        },
        "outputId": "9121121f-d04d-462a-b74d-a17aa89254ed"
      },
      "source": [
        "nums = queue.Queue()\n",
        "nums.put(\"\")\n",
        "add = \"\"\n",
        "\n",
        "while not findEnd(matriz, add): \n",
        "    add = nums.get()\n",
        "    for j in [\"L\", \"R\", \"U\", \"D\"]:\n",
        "        put = add + j\n",
        "        if valid(matriz, put):\n",
        "            nums.put(put)"
      ],
      "execution_count": 289,
      "outputs": [
        {
          "output_type": "stream",
          "text": [
            "Found: DDDD\n",
            "\n",
            "\n",
            "\n",
            "\n",
            "\n"
          ],
          "name": "stdout"
        }
      ]
    },
    {
      "cell_type": "code",
      "metadata": {
        "id": "_0KbBHyl64FQ",
        "colab_type": "code",
        "colab": {
          "base_uri": "https://localhost:8080/",
          "height": 303
        },
        "outputId": "8614ff0a-791f-44c9-b9f1-b9e34840674f"
      },
      "source": [
        "dibujarTablero(matriz)"
      ],
      "execution_count": 290,
      "outputs": [
        {
          "output_type": "display_data",
          "data": {
            "image/png": "[encoded data removed]",
            "text/plain": [
              "<Figure size 360x360 with 1 Axes>"
            ]
          },
          "metadata": {
            "tags": []
          }
        }
      ]
    },
    {
      "cell_type": "code",
      "metadata": {
        "id": "-RGqXHCoIemr",
        "colab_type": "code",
        "colab": {
          "base_uri": "https://localhost:8080/",
          "height": 303
        },
        "outputId": "b1b1e421-7eb4-4f45-a326-15e610559194"
      },
      "source": [
        "dibujarTablero(auxiliar)"
      ],
      "execution_count": 291,
      "outputs": [
        {
          "output_type": "display_data",
          "data": {
            "image/png": "[encoded data removed]",
            "text/plain": [
              "<Figure size 360x360 with 1 Axes>"
            ]
          },
          "metadata": {
            "tags": []
          }
        }
      ]
    },
    {
      "cell_type": "code",
      "metadata": {
        "id": "uiCkVWc7JAGM",
        "colab_type": "code",
        "colab": {}
      },
      "source": [
        "def Pinta_Camino_jugador_segundo(matriz, path = \"\"):\n",
        "    for x, pos in enumerate(matriz[fila-1]):\n",
        "        if pos == 4:\n",
        "            start = x\n",
        "\n",
        "    i = start\n",
        "    j = fila - 1\n",
        "    pos = set()\n",
        "    for move in path:\n",
        "        if move == \"L\":\n",
        "            i -= 1\n",
        "\n",
        "        elif move == \"R\":\n",
        "            i += 1\n",
        "\n",
        "        elif move == \"U\":\n",
        "            j -= 1\n",
        "\n",
        "        elif move == \"D\":\n",
        "            j += 1\n",
        "        pos.add((j, i))\n",
        "    \n",
        "    for j, row in enumerate(matriz):\n",
        "        for i, col in enumerate(row):\n",
        "            if (j, i) in pos:\n",
        "              matriz[j, i] = 8\n",
        "        print()"
      ],
      "execution_count": 292,
      "outputs": []
    },
    {
      "cell_type": "code",
      "metadata": {
        "id": "kcnX_3dqJQji",
        "colab_type": "code",
        "colab": {}
      },
      "source": [
        "def valid_jugador_segundo(matriz, moves):\n",
        "    for x, pos in enumerate(matriz[fila-1]):\n",
        "        if pos == 4:\n",
        "            start = x\n",
        "\n",
        "    i = start\n",
        "    j = fila - 1\n",
        "    for move in moves:\n",
        "        if move == \"L\":\n",
        "            i -= 1\n",
        "\n",
        "        elif move == \"R\":\n",
        "            i += 1\n",
        "\n",
        "        elif move == \"U\":\n",
        "            j -= 1\n",
        "\n",
        "        elif move == \"D\":\n",
        "            j += 1\n",
        "\n",
        "        if not(0 <= i < len(matriz[0]) and 0 <= j < len(matriz)):\n",
        "            return False\n",
        "        elif (matriz[j][i] == 5):\n",
        "            return False\n",
        "\n",
        "    return True"
      ],
      "execution_count": 293,
      "outputs": []
    },
    {
      "cell_type": "code",
      "metadata": {
        "id": "oMvG9LxAJcT-",
        "colab_type": "code",
        "colab": {}
      },
      "source": [
        "def findEnd_segundo_jugador(matriz, moves):\n",
        "    for x, pos in enumerate(matriz[fila-1]):\n",
        "        if pos == 4:\n",
        "          start = x\n",
        "    i = start\n",
        "    j = fila - 1\n",
        "    for move in moves:\n",
        "        if move == \"L\":\n",
        "            i -= 1\n",
        "\n",
        "        elif move == \"R\":\n",
        "            i += 1\n",
        "\n",
        "        elif move == \"U\":\n",
        "            j -= 1\n",
        "\n",
        "        elif move == \"D\":\n",
        "            j += 1\n",
        "\n",
        "    if matriz[j][i] == 1:\n",
        "        print(\"Found: \" + moves)\n",
        "        Pinta_Camino_jugador_segundo(matriz, moves)\n",
        "        return True\n",
        "\n",
        "    return False"
      ],
      "execution_count": 294,
      "outputs": []
    },
    {
      "cell_type": "code",
      "metadata": {
        "id": "Mep7RBdFJngL",
        "colab_type": "code",
        "colab": {
          "base_uri": "https://localhost:8080/",
          "height": 126
        },
        "outputId": "0c8e31b7-e26e-4284-a874-77bfaa1ef5b5"
      },
      "source": [
        "nums = queue.Queue()\n",
        "nums.put(\"\")\n",
        "agregar = \"\"\n",
        "\n",
        "while not findEnd_segundo_jugador(auxiliar, agregar): \n",
        "    agregar = nums.get()\n",
        "    for j in [\"L\", \"R\", \"U\", \"D\"]:\n",
        "        put = agregar + j\n",
        "        if valid_jugador_segundo(auxiliar, put):\n",
        "            nums.put(put)"
      ],
      "execution_count": 295,
      "outputs": [
        {
          "output_type": "stream",
          "text": [
            "Found: UUUU\n",
            "\n",
            "\n",
            "\n",
            "\n",
            "\n"
          ],
          "name": "stdout"
        }
      ]
    },
    {
      "cell_type": "code",
      "metadata": {
        "id": "3WzkQa_YJ2Nj",
        "colab_type": "code",
        "colab": {
          "base_uri": "https://localhost:8080/",
          "height": 303
        },
        "outputId": "d60b420b-fca8-473b-9757-1b6276eabcd7"
      },
      "source": [
        "dibujarTablero(auxiliar)"
      ],
      "execution_count": 296,
      "outputs": [
        {
          "output_type": "display_data",
          "data": {
            "image/png": "[encoded data removed]",
            "text/plain": [
              "<Figure size 360x360 with 1 Axes>"
            ]
          },
          "metadata": {
            "tags": []
          }
        }
      ]
    }
  ]
}