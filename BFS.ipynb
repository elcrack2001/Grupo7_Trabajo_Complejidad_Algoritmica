{
  "nbformat": 4,
  "nbformat_minor": 0,
  "metadata": {
    "colab": {
      "name": "BFS - Comentario",
      "provenance": []
    },
    "kernelspec": {
      "name": "python3",
      "display_name": "Python 3"
    }
  },
  "cells": [
    {
      "cell_type": "code",
      "metadata": {
        "id": "tWI0HzV5yfxL"
      },
      "source": [
        "import numpy as np\n",
        "import matplotlib.pyplot as plt\n",
        "import seaborn as sns\n",
        "import queue\n",
        "import random\n",
        "import time"
      ],
      "execution_count": null,
      "outputs": []
    },
    {
      "cell_type": "markdown",
      "metadata": {
        "id": "Ajm8CPMMTEJM"
      },
      "source": [
        "Creamos el tablero en donde en la primera Fila \"Fila = 0\", se llenara toda la columna de 1 \"tablero[0,0::1] = 1\". Y de manera aletoria en la misma fila creamos al jugador con un valor de 3. Pero su posicion en la columna es aleotoria. \"tablero[0,aletorio] = 3.\n",
        "Para el segundo jugador estara posicionado en la ultima fila \"Fila - 1\" En donde  en esa fila se llenara toda las columnas de 2. \"tablero[fila - 1, 0::1] = 2\". Y justo en la misma fila creamos al segundo jugador con un valor de 4, y su posicion en columna es aleatoria. \"tablero[fila - 1, aletorio] = 4\". Y los que respecta al centro de la tabla lo llenas con bloques con los valores de 5."
      ]
    },
    {
      "cell_type": "code",
      "metadata": {
        "id": "lSmfCzSryjGl"
      },
      "source": [
        "def Generar_Tablero(n):\n",
        "    tablero = np.zeros(shape=(n,n)).astype(int)\n",
        "    ## Ganar\n",
        "    tablero[0,0::1] = 1\n",
        "    tablero[n - 1,0::1] = 2\n",
        "    ## Jugadores\n",
        "    pos1 = random.randint(0,n - 1)\n",
        "    pos2 = random.randint(0,n - 1)\n",
        "    tablero[0, pos1] = 3\n",
        "    tablero[n - 1, pos2] = 4\n",
        "    #OBSTACULOS\n",
        "    i = 1\n",
        "    j = n - 1\n",
        "    for i in range(1, j):\n",
        "      tablero[i, random.randint(0,n - 1)] = 5\n",
        "    return tablero"
      ],
      "execution_count": null,
      "outputs": []
    },
    {
      "cell_type": "code",
      "metadata": {
        "id": "GPrjh2C-ys9C"
      },
      "source": [
        "def dibujarTablero(matriz, id=True):\n",
        "  plt.figure(figsize=(np.size(matriz,0),np.size(matriz,1)))\n",
        "  sns.heatmap(matriz, linewidths=.1, linecolor='white', annot=False, cmap='magma', yticklabels=False, xticklabels=False, cbar=False, square=True);\n",
        "  sns.heatmap(matriz, linewidths=.1, linecolor='white', annot=id, cmap='magma', yticklabels=False, xticklabels=False, cbar=False, square=True,\n",
        "  mask=np.array(matriz)<0);\n",
        "  plt.show()"
      ],
      "execution_count": null,
      "outputs": []
    },
    {
      "cell_type": "markdown",
      "metadata": {
        "id": "B_2HJ1paUK8U"
      },
      "source": [
        "Esta funcion recibe la matriz que se genero como tambien un string de los movimientos, y buscamos al primer jugador que se en cuentra en la primera fila. Para buscarlo hacemos un recorrido columna por columna en la primera fila \"Fila = 0\". Donde el primer jugador tiene su valor de 3. Una ves encontrado el jugador creamos una variable \"start\" en donde se almacena la poscion en donde se le encontro al jugador.\n",
        "\n",
        "Luego hacemos un for donde recorera el string que recibe la funcion en este caso es \"path\". Donde path va recibir las instrucciones donde se va a mover el jugador ya sea izquierda \"L\", derecha \"R\", abajo \"D\", arriba \"U\". Y cada moviendo es respecto al \"start\" donde era la posicion original del jugador y ahora se va moviendo segun los parametros que recibe.\n",
        "\n",
        "Por ultimo en la funcion creamos un doble \"for\".\n",
        "El primer for recibe como parametro la posicion orginal del jugador, tambien creamos otra variable que recorrera las fila. Y todo el primer for recorre la matriz. El segundo \"for\" es casi similar solo que los parametros recorre las columas. Y dentro del doble \"for\" decimos que cada vez que avance de una rastro y ese rastro es el valor del jugador.\n",
        "\n",
        "matriz[j, i] = 3\n"
      ]
    },
    {
      "cell_type": "code",
      "metadata": {
        "id": "kRUOa2lTywUj"
      },
      "source": [
        "\n",
        "def Pinta_Camino(matriz, path = \"\"):\n",
        "    for x, pos in enumerate(matriz[0]):\n",
        "        if pos == 3:\n",
        "            start = x\n",
        "\n",
        "    i = start\n",
        "    j = 0\n",
        "    pos = set()\n",
        "    for move in path:\n",
        "        if move == \"L\":\n",
        "            i -= 1\n",
        "\n",
        "        elif move == \"R\":\n",
        "            i += 1\n",
        "\n",
        "        elif move == \"U\":\n",
        "            j -= 1\n",
        "\n",
        "        elif move == \"D\":\n",
        "            j += 1\n",
        "        pos.add((j, i))\n",
        "    \n",
        "    for j, row in enumerate(matriz):\n",
        "        for i, col in enumerate(row):\n",
        "            if (j, i) in pos:\n",
        "              matriz[j, i] = 3\n",
        "        print()"
      ],
      "execution_count": null,
      "outputs": []
    },
    {
      "cell_type": "code",
      "metadata": {
        "id": "yGTlQPaFyyQU"
      },
      "source": [
        "def valid(matriz, moves):\n",
        "    for x, pos in enumerate(matriz[0]):\n",
        "        if pos == 3:\n",
        "            start = x\n",
        "\n",
        "    i = start\n",
        "    j = 0\n",
        "    for move in moves:\n",
        "        if move == \"L\":\n",
        "            i -= 1\n",
        "\n",
        "        elif move == \"R\":\n",
        "            i += 1\n",
        "\n",
        "        elif move == \"U\":\n",
        "            j -= 1\n",
        "\n",
        "        elif move == \"D\":\n",
        "            j += 1\n",
        "\n",
        "        if not(0 <= i < len(matriz[0]) and 0 <= j < len(matriz)):\n",
        "            return False\n",
        "        elif (matriz[j][i] == 5):\n",
        "            return False\n",
        "        elif (matriz[j][i] == 4):\n",
        "            return False\n",
        "    return True"
      ],
      "execution_count": null,
      "outputs": []
    },
    {
      "cell_type": "code",
      "metadata": {
        "id": "bnhBf_ehy0y6"
      },
      "source": [
        "def findEnd(matriz, moves):\n",
        "    for x, pos in enumerate(matriz[0]):\n",
        "        if pos == 3:\n",
        "          start = x\n",
        "    i = start\n",
        "    j = 0\n",
        "    for move in moves:\n",
        "        if move == \"L\":\n",
        "            i -= 1\n",
        "\n",
        "        elif move == \"R\":\n",
        "            i += 1\n",
        "\n",
        "        elif move == \"U\":\n",
        "            j -= 1\n",
        "\n",
        "        elif move == \"D\":\n",
        "            j += 1\n",
        "\n",
        "    if matriz[j][i] == 2:\n",
        "        print(\"Found: \" + moves)\n",
        "        Pinta_Camino(matriz, moves)\n",
        "        return True\n",
        "\n",
        "    return False"
      ],
      "execution_count": null,
      "outputs": []
    },
    {
      "cell_type": "code",
      "metadata": {
        "id": "HeVfYLL6y1Sx"
      },
      "source": [
        "\n",
        "def Pinta_Camino_jugador_segundo(matriz,n, path = \"\"):\n",
        "    for x, pos in enumerate(matriz[n-1]):\n",
        "        if pos == 4:\n",
        "            start = x\n",
        "\n",
        "    i = start\n",
        "    j = n - 1\n",
        "    pos = set()\n",
        "    for move in path:\n",
        "        if move == \"L\":\n",
        "            i -= 1\n",
        "\n",
        "        elif move == \"R\":\n",
        "            i += 1\n",
        "\n",
        "        elif move == \"U\":\n",
        "            j -= 1\n",
        "\n",
        "        elif move == \"D\":\n",
        "            j += 1\n",
        "        pos.add((j, i))\n",
        "    \n",
        "    for j, row in enumerate(matriz):\n",
        "        for i, col in enumerate(row):\n",
        "            if (j, i) in pos:\n",
        "              matriz[j, i] = 4\n",
        "        print()"
      ],
      "execution_count": null,
      "outputs": []
    },
    {
      "cell_type": "code",
      "metadata": {
        "id": "3QNnfXBey4fc"
      },
      "source": [
        "def valid_jugador_segundo(matriz,n, moves):\n",
        "    for x, pos in enumerate(matriz[n-1]):\n",
        "        if pos == 4:\n",
        "            start = x\n",
        "\n",
        "    i = start\n",
        "    j = n - 1\n",
        "    for move in moves:\n",
        "        if move == \"L\":\n",
        "            i -= 1\n",
        "\n",
        "        elif move == \"R\":\n",
        "            i += 1\n",
        "\n",
        "        elif move == \"U\":\n",
        "            j -= 1\n",
        "\n",
        "        elif move == \"D\":\n",
        "            j += 1\n",
        "\n",
        "        if not(0 <= i < len(matriz[0]) and 0 <= j < len(matriz)):\n",
        "            return False\n",
        "        elif (matriz[j][i] == 5):\n",
        "            return False\n",
        "        elif (matriz[j][i] == 3):\n",
        "            return False    \n",
        "\n",
        "    return True"
      ],
      "execution_count": null,
      "outputs": []
    },
    {
      "cell_type": "code",
      "metadata": {
        "id": "bCq4qKRYy6Bh"
      },
      "source": [
        "def findEnd_segundo_jugador(matriz,n, moves):\n",
        "    for x, pos in enumerate(matriz[n-1]):\n",
        "        if pos == 4:\n",
        "          start = x\n",
        "    i = start\n",
        "    j = n - 1\n",
        "    for move in moves:\n",
        "        if move == \"L\":\n",
        "            i -= 1\n",
        "\n",
        "        elif move == \"R\":\n",
        "            i += 1\n",
        "\n",
        "        elif move == \"U\":\n",
        "            j -= 1\n",
        "\n",
        "        elif move == \"D\":\n",
        "            j += 1\n",
        "\n",
        "    if matriz[j][i] == 1:\n",
        "        print(\"Found: \" + moves)\n",
        "        Pinta_Camino_jugador_segundo(matriz,n, moves)\n",
        "        return True\n",
        "\n",
        "    return False"
      ],
      "execution_count": null,
      "outputs": []
    },
    {
      "cell_type": "code",
      "metadata": {
        "id": "WbX7Ky_Vy7w1"
      },
      "source": [
        "def findEnd_segundo_jugador(matriz,n, moves):\n",
        "    for x, pos in enumerate(matriz[n-1]):\n",
        "        if pos == 4:\n",
        "          start = x\n",
        "    i = start\n",
        "    j = n - 1\n",
        "    for move in moves:\n",
        "        if move == \"L\":\n",
        "            i -= 1\n",
        "\n",
        "        elif move == \"R\":\n",
        "            i += 1\n",
        "\n",
        "        elif move == \"U\":\n",
        "            j -= 1\n",
        "\n",
        "        elif move == \"D\":\n",
        "            j += 1\n",
        "\n",
        "    if matriz[j][i] == 1:\n",
        "        print(\"Found: \" + moves)\n",
        "        Pinta_Camino_jugador_segundo(matriz,n, moves)\n",
        "        return True\n",
        "\n",
        "    return False"
      ],
      "execution_count": null,
      "outputs": []
    },
    {
      "cell_type": "code",
      "metadata": {
        "id": "zzEdvAGLzEvq"
      },
      "source": [
        "def mesure_time(main,n):\n",
        "  start=time.time()\n",
        "  main(n)\n",
        "  end=time.time()\n",
        "  return end-start"
      ],
      "execution_count": null,
      "outputs": []
    },
    {
      "cell_type": "code",
      "metadata": {
        "id": "ygwl6doxy9b7"
      },
      "source": [
        "def main(n):\n",
        "  matriz = Generar_Tablero(n)\n",
        "\n",
        "  #-----------Primer Peon\n",
        "  nums = queue.Queue()\n",
        "  nums.put(\"\")\n",
        "  add = \"\"\n",
        "\n",
        "  while not findEnd(matriz, add): \n",
        "      add = nums.get()\n",
        "      for j in [\"L\", \"R\", \"U\", \"D\"]:\n",
        "          put = add + j\n",
        "          if valid(matriz, put):\n",
        "              nums.put(put)\n",
        "\n",
        "  #----------Segundo Peon\n",
        "\n",
        "  nums = queue.Queue()\n",
        "  nums.put(\"\")\n",
        "  agregar = \"\"\n",
        "\n",
        "  while not findEnd_segundo_jugador(matriz,n, agregar): \n",
        "      agregar = nums.get()\n",
        "      for j in [\"L\", \"R\", \"U\", \"D\"]:\n",
        "          put = agregar + j\n",
        "          if valid_jugador_segundo(matriz,n, put):\n",
        "              nums.put(put)\n",
        "\n",
        "  dibujarTablero(matriz)"
      ],
      "execution_count": null,
      "outputs": []
    },
    {
      "cell_type": "code",
      "metadata": {
        "id": "Z97FOSw-y-z5",
        "outputId": "bdcb5772-e85b-43da-d8d6-094b69255769",
        "colab": {
          "base_uri": "https://localhost:8080/",
          "height": 877
        }
      },
      "source": [
        "print(\"El tiempo es \",mesure_time(main,9))"
      ],
      "execution_count": null,
      "outputs": [
        {
          "output_type": "stream",
          "text": [
            "Found: LDDDDDDDD\n",
            "\n",
            "\n",
            "\n",
            "\n",
            "\n",
            "\n",
            "\n",
            "\n",
            "\n",
            "Found: RUUUUUUUU\n",
            "\n",
            "\n",
            "\n",
            "\n",
            "\n",
            "\n",
            "\n",
            "\n",
            "\n"
          ],
          "name": "stdout"
        },
        {
          "output_type": "display_data",
          "data": {
            "image/png": "[encoded data removed]",
            "text/plain": [
              "<Figure size 648x648 with 1 Axes>"
            ]
          },
          "metadata": {
            "tags": []
          }
        },
        {
          "output_type": "stream",
          "text": [
            "El tiempo es  5.734004974365234\n"
          ],
          "name": "stdout"
        }
      ]
    }
  ]
}