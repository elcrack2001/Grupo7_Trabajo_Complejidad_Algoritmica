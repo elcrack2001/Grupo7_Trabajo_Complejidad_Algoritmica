{
  "nbformat": 4,
  "nbformat_minor": 0,
  "metadata": {
    "colab": {
      "name": "BFS",
      "provenance": []
    },
    "kernelspec": {
      "name": "python3",
      "display_name": "Python 3"
    }
  },
  "cells": [
    {
      "cell_type": "code",
      "metadata": {
        "id": "-BKOG7dOx_BO",
        "outputId": "48288b19-84b2-4c4f-f047-6e180b3e72ae",
        "colab": {
          "base_uri": "https://localhost:8080/",
          "height": 70
        }
      },
      "source": [
        "import numpy as np\n",
        "import matplotlib.pyplot as plt\n",
        "import seaborn as sns\n",
        "import networkx as nx\n",
        "import queue\n",
        "import random\n",
        "import time"
      ],
      "execution_count": 1,
      "outputs": [
        {
          "output_type": "stream",
          "text": [
            "/usr/local/lib/python3.6/dist-packages/statsmodels/tools/_testing.py:19: FutureWarning: pandas.util.testing is deprecated. Use the functions in the public API at pandas.testing instead.\n",
            "  import pandas.util.testing as tm\n"
          ],
          "name": "stderr"
        }
      ]
    },
    {
      "cell_type": "code",
      "metadata": {
        "id": "Q2-PXfWayNaN"
      },
      "source": [
        "def Generar_Tablero(n):\n",
        "    tablero = np.zeros(shape=(n,n)).astype(int)\n",
        "    ## Ganar\n",
        "    tablero[0,0::1] = 1\n",
        "    tablero[n - 1,0::1] = 2\n",
        "    ## Jugadores\n",
        "    pos1 = random.randint(0,n - 1)\n",
        "    pos2 = random.randint(0,n - 1)\n",
        "    tablero[0, pos1] = 3\n",
        "    tablero[n - 1, pos2] = 4\n",
        "    #OBSTACULOS\n",
        "    i = 1\n",
        "    j = n - 1\n",
        "    for i in range(1, j):\n",
        "      tablero[i, random.randint(0,n - 1)] = 5\n",
        "    return tablero"
      ],
      "execution_count": 2,
      "outputs": []
    },
    {
      "cell_type": "code",
      "metadata": {
        "id": "QFyLjx5LyXHP"
      },
      "source": [
        "def dibujarTablero(matriz, id=True):\n",
        "  plt.figure(figsize=(np.size(matriz,0),np.size(matriz,1)))\n",
        "  sns.heatmap(matriz, linewidths=.1, linecolor='white', annot=False, cmap='magma', yticklabels=False, xticklabels=False, cbar=False, square=True);\n",
        "  sns.heatmap(matriz, linewidths=.1, linecolor='white', annot=id, cmap='magma', yticklabels=False, xticklabels=False, cbar=False, square=True,\n",
        "  mask=np.array(matriz)<0);\n",
        "  plt.show()"
      ],
      "execution_count": 3,
      "outputs": []
    },
    {
      "cell_type": "code",
      "metadata": {
        "id": "tFmGeuZSyNYJ"
      },
      "source": [
        "def Pinta_Camino(matriz, path = \"\"):\n",
        "    for x, pos in enumerate(matriz[0]):\n",
        "        if pos == 3:\n",
        "            start = x\n",
        "\n",
        "    i = start\n",
        "    j = 0\n",
        "    pos = set()\n",
        "    for move in path:\n",
        "        if move == \"L\":\n",
        "            i -= 1\n",
        "\n",
        "        elif move == \"R\":\n",
        "            i += 1\n",
        "\n",
        "        elif move == \"U\":\n",
        "            j -= 1\n",
        "\n",
        "        elif move == \"D\":\n",
        "            j += 1\n",
        "        pos.add((j, i))\n",
        "    \n",
        "    for j, row in enumerate(matriz):\n",
        "        for i, col in enumerate(row):\n",
        "            if (j, i) in pos:\n",
        "              matriz[j, i] = 3\n",
        "        print()"
      ],
      "execution_count": 4,
      "outputs": []
    },
    {
      "cell_type": "code",
      "metadata": {
        "id": "-7weKD1VzJxu"
      },
      "source": [
        "def valid(matriz, moves):\n",
        "    for x, pos in enumerate(matriz[0]):\n",
        "        if pos == 3:\n",
        "            start = x\n",
        "\n",
        "    i = start\n",
        "    j = 0\n",
        "    for move in moves:\n",
        "        if move == \"L\":\n",
        "            i -= 1\n",
        "\n",
        "        elif move == \"R\":\n",
        "            i += 1\n",
        "\n",
        "        elif move == \"U\":\n",
        "            j -= 1\n",
        "\n",
        "        elif move == \"D\":\n",
        "            j += 1\n",
        "\n",
        "        if not(0 <= i < len(matriz[0]) and 0 <= j < len(matriz)):\n",
        "            return False\n",
        "        elif (matriz[j][i] == 5):\n",
        "            return False\n",
        "        elif (matriz[j][i] == 4):\n",
        "            return False\n",
        "    return True"
      ],
      "execution_count": 5,
      "outputs": []
    },
    {
      "cell_type": "code",
      "metadata": {
        "id": "I78Nfe1bzXmx"
      },
      "source": [
        "def findEnd(matriz, moves):\n",
        "    for x, pos in enumerate(matriz[0]):\n",
        "        if pos == 3:\n",
        "          start = x\n",
        "    i = start\n",
        "    j = 0\n",
        "    for move in moves:\n",
        "        if move == \"L\":\n",
        "            i -= 1\n",
        "\n",
        "        elif move == \"R\":\n",
        "            i += 1\n",
        "\n",
        "        elif move == \"U\":\n",
        "            j -= 1\n",
        "\n",
        "        elif move == \"D\":\n",
        "            j += 1\n",
        "\n",
        "    if matriz[j][i] == 2:\n",
        "        print(\"Found: \" + moves)\n",
        "        Pinta_Camino(matriz, moves)\n",
        "        return True\n",
        "\n",
        "    return False"
      ],
      "execution_count": 6,
      "outputs": []
    },
    {
      "cell_type": "code",
      "metadata": {
        "id": "uiCkVWc7JAGM"
      },
      "source": [
        "def Pinta_Camino_jugador_segundo(matriz,n, path = \"\"):\n",
        "    for x, pos in enumerate(matriz[n-1]):\n",
        "        if pos == 4:\n",
        "            start = x\n",
        "\n",
        "    i = start\n",
        "    j = n - 1\n",
        "    pos = set()\n",
        "    for move in path:\n",
        "        if move == \"L\":\n",
        "            i -= 1\n",
        "\n",
        "        elif move == \"R\":\n",
        "            i += 1\n",
        "\n",
        "        elif move == \"U\":\n",
        "            j -= 1\n",
        "\n",
        "        elif move == \"D\":\n",
        "            j += 1\n",
        "        pos.add((j, i))\n",
        "    \n",
        "    for j, row in enumerate(matriz):\n",
        "        for i, col in enumerate(row):\n",
        "            if (j, i) in pos:\n",
        "              matriz[j, i] = 4\n",
        "        print()"
      ],
      "execution_count": 7,
      "outputs": []
    },
    {
      "cell_type": "code",
      "metadata": {
        "id": "kcnX_3dqJQji"
      },
      "source": [
        "def valid_jugador_segundo(matriz,n, moves):\n",
        "    for x, pos in enumerate(matriz[n-1]):\n",
        "        if pos == 4:\n",
        "            start = x\n",
        "\n",
        "    i = start\n",
        "    j = n - 1\n",
        "    for move in moves:\n",
        "        if move == \"L\":\n",
        "            i -= 1\n",
        "\n",
        "        elif move == \"R\":\n",
        "            i += 1\n",
        "\n",
        "        elif move == \"U\":\n",
        "            j -= 1\n",
        "\n",
        "        elif move == \"D\":\n",
        "            j += 1\n",
        "\n",
        "        if not(0 <= i < len(matriz[0]) and 0 <= j < len(matriz)):\n",
        "            return False\n",
        "        elif (matriz[j][i] == 5):\n",
        "            return False\n",
        "        elif (matriz[j][i] == 3):\n",
        "            return False    \n",
        "\n",
        "    return True"
      ],
      "execution_count": 8,
      "outputs": []
    },
    {
      "cell_type": "code",
      "metadata": {
        "id": "oMvG9LxAJcT-"
      },
      "source": [
        "def findEnd_segundo_jugador(matriz,n, moves):\n",
        "    for x, pos in enumerate(matriz[n-1]):\n",
        "        if pos == 4:\n",
        "          start = x\n",
        "    i = start\n",
        "    j = n - 1\n",
        "    for move in moves:\n",
        "        if move == \"L\":\n",
        "            i -= 1\n",
        "\n",
        "        elif move == \"R\":\n",
        "            i += 1\n",
        "\n",
        "        elif move == \"U\":\n",
        "            j -= 1\n",
        "\n",
        "        elif move == \"D\":\n",
        "            j += 1\n",
        "\n",
        "    if matriz[j][i] == 1:\n",
        "        print(\"Found: \" + moves)\n",
        "        Pinta_Camino_jugador_segundo(matriz,n, moves)\n",
        "        return True\n",
        "\n",
        "    return False"
      ],
      "execution_count": 9,
      "outputs": []
    },
    {
      "cell_type": "code",
      "metadata": {
        "id": "19ei-SYS4wnc"
      },
      "source": [
        "def mesure_time(main,n):\n",
        "  start=time.time()\n",
        "  main(n)\n",
        "  end=time.time()\n",
        "  return end-start"
      ],
      "execution_count": 10,
      "outputs": []
    },
    {
      "cell_type": "code",
      "metadata": {
        "id": "VrTlTLoI3O0t"
      },
      "source": [
        "def main(n):\n",
        "  matriz = Generar_Tablero(n)\n",
        "\n",
        "  #-----------Primer Peon\n",
        "  nums = queue.Queue()\n",
        "  nums.put(\"\")\n",
        "  add = \"\"\n",
        "\n",
        "  while not findEnd(matriz, add): \n",
        "      add = nums.get()\n",
        "      for j in [\"L\", \"R\", \"U\", \"D\"]:\n",
        "          put = add + j\n",
        "          if valid(matriz, put):\n",
        "              nums.put(put)\n",
        "\n",
        "  #----------Segundo Peon\n",
        "\n",
        "  nums = queue.Queue()\n",
        "  nums.put(\"\")\n",
        "  agregar = \"\"\n",
        "\n",
        "  while not findEnd_segundo_jugador(matriz,n, agregar): \n",
        "      agregar = nums.get()\n",
        "      for j in [\"L\", \"R\", \"U\", \"D\"]:\n",
        "          put = agregar + j\n",
        "          if valid_jugador_segundo(matriz,n, put):\n",
        "              nums.put(put)\n",
        "\n",
        "  dibujarTablero(matriz)"
      ],
      "execution_count": 11,
      "outputs": []
    },
    {
      "cell_type": "code",
      "metadata": {
        "id": "CcqSwEJ45SBK",
        "outputId": "88a06ee9-e7ac-432c-a344-d69cc78f66fb",
        "colab": {
          "base_uri": "https://localhost:8080/",
          "height": 861
        }
      },
      "source": [
        "print(\"El tiempo es \",mesure_time(main,9))"
      ],
      "execution_count": 13,
      "outputs": [
        {
          "output_type": "stream",
          "text": [
            "Found: LDDDDDDDD\n",
            "\n",
            "\n",
            "\n",
            "\n",
            "\n",
            "\n",
            "\n",
            "\n",
            "\n",
            "Found: RUURUUUUUU\n",
            "\n",
            "\n",
            "\n",
            "\n",
            "\n",
            "\n",
            "\n",
            "\n",
            "\n"
          ],
          "name": "stdout"
        },
        {
          "output_type": "display_data",
          "data": {
            "image/png": "[encoded data removed]",
            "text/plain": [
              "<Figure size 648x648 with 1 Axes>"
            ]
          },
          "metadata": {
            "tags": []
          }
        },
        {
          "output_type": "stream",
          "text": [
            "El tiempo es  10.62555456161499\n"
          ],
          "name": "stdout"
        }
      ]
    }
  ]
}